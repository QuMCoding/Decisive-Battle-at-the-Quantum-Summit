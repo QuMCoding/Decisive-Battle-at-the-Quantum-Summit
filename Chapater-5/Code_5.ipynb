{
 "cells": [
  {
   "cell_type": "markdown",
   "metadata": {},
   "source": [
    "## Code 5-7 看到空間波函數：玻色-愛因斯坦凝聚態"
   ]
  },
  {
   "cell_type": "markdown",
   "metadata": {},
   "source": [
    "### Bose Einstein Distribution"
   ]
  },
  {
   "cell_type": "code",
   "execution_count": null,
   "metadata": {},
   "outputs": [],
   "source": [
    "import numpy as np\n",
    "from matplotlib import pyplot as plt\n",
    "from matplotlib.widgets import Slider\n",
    "# 啟用互動式圖形，使圖形可以與使用者互動\n",
    "%matplotlib widget"
   ]
  },
  {
   "cell_type": "code",
   "execution_count": null,
   "metadata": {},
   "outputs": [],
   "source": [
    "def bose_einstein_distribution(energy, temperature):\n",
    "    \"\"\"\n",
    "    Returns the Bose-Einstein distribution function for a given energy, temperature, and chemical potential.\n",
    "\n",
    "    Parameters\n",
    "    ----------\n",
    "    energy : float\n",
    "        Energy of the state.\n",
    "    temperature : float\n",
    "        Temperature of the system.\n",
    "    chemical_potential : float\n",
    "        Chemical potential of the system.\n",
    "\n",
    "    Returns\n",
    "    -------\n",
    "    float\n",
    "        Bose-Einstein distribution function.\n",
    "    \"\"\"\n",
    "    k = 8.617333262145e-5  # Boltzmann constant in eV/K\n",
    "    A = 1.0\n",
    "    return 1.0 / (A * np.exp((energy) / (temperature * k)) - 1.0)\n",
    "\n",
    "def update(val):\n",
    "    \"\"\"\n",
    "    Updates the plot when the slider is moved.\n",
    "\n",
    "    Parameters\n",
    "    ----------\n",
    "    val : float\n",
    "        Slider value.\n",
    "    \"\"\"\n",
    "    temperature = temperature_slider.val\n",
    "\n",
    "    line.set_ydata(bose_einstein_distribution(energy, temperature))\n",
    "\n",
    "    line.set_label(\"T = \" + str(round(temperature, 2)) + \" K\")\n",
    "    ax.legend()\n",
    "    fig.canvas.draw_idle()"
   ]
  },
  {
   "cell_type": "code",
   "execution_count": null,
   "metadata": {},
   "outputs": [],
   "source": [
    "fig, ax = plt.subplots()\n",
    "fig.subplots_adjust(bottom=0.25)\n",
    "energy = np.linspace(0.0, 0.1, 1000)\n",
    "line, = ax.plot(energy, bose_einstein_distribution(energy, 100), label=\"T = 100 K\")\n",
    "\n",
    "axtemp = fig.add_axes([0.25, 0.1, 0.65, 0.03])\n",
    "temperature_slider = Slider(ax=axtemp, label=\"Temperature (K)\", valmin=0.0, valmax=10000.0, valinit=100, orientation=\"horizontal\")\n",
    "\n",
    "temperature_slider.on_changed(update)\n",
    "\n",
    "ax.set_xlabel(\"Energy (eV)\")\n",
    "ax.set_ylabel(\"<n>\")\n",
    "ax.set_title(\"Bose-Einstein distribution\")\n",
    "ax.legend()\n",
    "\n",
    "plt.show()"
   ]
  }
 ],
 "metadata": {
  "kernelspec": {
   "display_name": "Python 3",
   "language": "python",
   "name": "python3"
  },
  "language_info": {
   "codemirror_mode": {
    "name": "ipython",
    "version": 3
   },
   "file_extension": ".py",
   "mimetype": "text/x-python",
   "name": "python",
   "nbconvert_exporter": "python",
   "pygments_lexer": "ipython3",
   "version": "3.9.12"
  }
 },
 "nbformat": 4,
 "nbformat_minor": 2
}
