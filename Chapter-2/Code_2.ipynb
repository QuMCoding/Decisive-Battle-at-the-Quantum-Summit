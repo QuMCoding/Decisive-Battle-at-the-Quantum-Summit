{
 "cells": [
  {
   "cell_type": "markdown",
   "metadata": {},
   "source": [
    "## Code 2-5 波耳氫原子模型"
   ]
  },
  {
   "cell_type": "markdown",
   "metadata": {},
   "source": [
    "**如果用 colab 就先執行下面這兩格**，本機不用執行"
   ]
  },
  {
   "cell_type": "code",
   "execution_count": null,
   "metadata": {},
   "outputs": [],
   "source": [
    "%%capture\n",
    "!pip install ipympl"
   ]
  },
  {
   "cell_type": "code",
   "execution_count": null,
   "metadata": {},
   "outputs": [],
   "source": [
    "from google.colab import output\n",
    "output.enable_custom_widget_manager()"
   ]
  },
  {
   "cell_type": "markdown",
   "metadata": {},
   "source": [
    "### 氫原子光譜繪製"
   ]
  },
  {
   "cell_type": "code",
   "execution_count": null,
   "metadata": {},
   "outputs": [],
   "source": [
    "import numpy as np\n",
    "import matplotlib.pyplot as plt\n",
    "import scipy.special as spe\n",
    "from matplotlib import cm\n",
    "# 啟用互動式圖形，使圖形可以與使用者互動\n",
    "%matplotlib widget\n",
    "plt.rcParams['text.usetex'] = True  # 使用LaTeX排版"
   ]
  },
  {
   "cell_type": "code",
   "execution_count": null,
   "metadata": {},
   "outputs": [],
   "source": [
    "class Compact:\n",
    "    def __init__(self, n=1, l=0, m=0, alpha=0.4):\n",
    "        self.n = n  # 主量子數\n",
    "        self.l = l  # 角動量量子數\n",
    "        self.m = m  # 磁量子數\n",
    "        self.make2d = True  # 是否繪製2D圖形\n",
    "        self.make3d = True  # 是否繪製3D圖形\n",
    "        self.make_color_bar = True  # 是否顯示色彩條\n",
    "        self.alpha = alpha  # 3D圖形的透明度\n",
    "\n",
    "        # 將matplotlib的東西準備好\n",
    "        plt.style.use(\"default\")\n",
    "        self.fig = plt.figure(figsize=(10, 4))  # 創建圖形物件\n",
    "        self.fig.tight_layout()\n",
    "        self.ax = None\n",
    "        self.ax2d = None\n",
    "\n",
    "    @staticmethod\n",
    "    def psi_r(r, n=1, l=0):\n",
    "        \"\"\"\n",
    "        計算徑向波函數\n",
    "\n",
    "        :param r: 徑向坐標\n",
    "        :param n: 主量子數\n",
    "        :param l: 角動量量子數\n",
    "        :return: 徑向波函數\n",
    "        \"\"\"\n",
    "        # R_nl(r) = 係數 * 拉蓋爾多項式\n",
    "        # 係數\n",
    "        coeff = np.sqrt((2.0 / n) ** 3 * spe.factorial(n - l - 1) /\n",
    "                        (n * spe.factorial(n + l) * 2.0))\n",
    "        # 拉蓋爾多項式\n",
    "        laguerre = spe.assoc_laguerre(2.0 * r / n, n - l - 1, 2 * l + 1)\n",
    "        # 徑向波函數\n",
    "        return coeff * np.exp(-r / n) * (2.0 * r / n) ** l * laguerre\n",
    "\n",
    "    @staticmethod\n",
    "    def psi_ang(phi, theta, l=0, m=0):\n",
    "        \"\"\"\n",
    "        計算角向波函數\n",
    "\n",
    "        :param phi: 方位角座標\n",
    "        :param theta: 極座標\n",
    "        :param l: 角動量量子數\n",
    "        :param m: 磁量子數\n",
    "        :return: 角向波函數\n",
    "        \"\"\"\n",
    "        # 直接使用scipy內建的特殊函數sph_harm\n",
    "        return spe.sph_harm(m, l, phi, theta).real\n",
    "\n",
    "    def set_up(self):\n",
    "        self.fig.clear()  # 將目前的圖清除乾淨\n",
    "        total_draw = 2 if self.make2d and self.make3d else \\\n",
    "            1 if self.make2d or self.make3d else 0\n",
    "        self.fig.set_size_inches(5 * total_draw, 4)\n",
    "\n",
    "        # 繪製3D圖形\n",
    "        if self.make3d:\n",
    "            self.ax = self.fig.add_subplot(1, total_draw, 1, projection=\"3d\")\n",
    "            self.ax.set_zticklabels([])  # 設定z軸刻度文字為空，即不顯示\n",
    "            self.ax.set_yticklabels([])  # 設定y軸刻度文字為空，即不顯示\n",
    "            self.ax.set_xticklabels([])  # 設定x軸刻度文字為空，即不顯示\n",
    "            self.ax.set_box_aspect((1, 1, 1))  # 設定3D軸的長寬高比為1:1:1\n",
    "            theta, phi = np.linspace(0, 8, 500), np.linspace(0, 4, 500)\n",
    "            theta, phi = np.meshgrid(theta, phi)\n",
    "            y_lm = self.psi_ang(theta, phi, l=self.l, m=self.m)\n",
    "\n",
    "            x = abs(y_lm) * np.sin(phi) * np.cos(theta)\n",
    "            y = abs(y_lm) * np.sin(phi) * np.sin(theta)\n",
    "            z = abs(y_lm) * np.cos(phi)\n",
    "            lim_max = max((x.max(), y.max(), z.max()))\n",
    "            lim_min = min((x.min(), y.min(), z.min()))\n",
    "            self.ax.set_xlim(lim_min, lim_max)  # 設定x軸範圍\n",
    "            self.ax.set_xlabel(\"x\", labelpad=-15)  # 設定x軸標籤，並將標籤向下移動一點\n",
    "            self.ax.set_ylim(lim_min, lim_max)  # 設定y軸範圍\n",
    "            self.ax.set_ylabel(\"y\", labelpad=-15)  # 設定y軸標籤，並將標籤向下移動一點\n",
    "            self.ax.set_zlim(lim_min, lim_max)  # 設定z軸範圍\n",
    "            self.ax.set_zlabel(\"z\", labelpad=-15)  # 設定z軸標籤，並將標籤向下移動一點\n",
    "\n",
    "            p = self.ax.plot_surface(x, y, z, cmap=cm.rainbow, alpha=self.alpha)  # 繪製3D曲面\n",
    "            if self.make_color_bar:\n",
    "                plt.colorbar(p, ax=self.ax)  # 加入色彩條\n",
    "\n",
    "        # 繪製2D圖形\n",
    "        if self.make2d:\n",
    "            self.ax2d = self.fig.add_subplot(1, total_draw, 2 if self.make3d else 1)\n",
    "            self.ax2d.set_yticklabels([])  # 設定y軸刻度文字為空，即不顯示\n",
    "            self.ax2d.set_xticklabels([])  # 設定x軸刻度文字為空，即不顯示\n",
    "            self.ax2d.set_aspect(\"equal\")  # 設定2D軸的長寬比為1:1\n",
    "            limit = 4 * (self.n + self.l)\n",
    "            x_1d = np.linspace(-limit, limit, 400)\n",
    "            z_1d = np.linspace(-limit, limit, 400)\n",
    "            fx, fz = np.meshgrid(x_1d, z_1d)\n",
    "            r = np.sqrt(fx ** 2 + fz ** 2)\n",
    "            theta, phi = np.arctan2(np.sqrt(fx ** 2), fz), np.arctan2(0, fx)\n",
    "\n",
    "            psinlm = np.abs(self.psi_r(r, self.n, self.l) *\n",
    "                            self.psi_ang(phi, theta, self.l, self.m))\n",
    "            c = self.ax2d.pcolormesh(fx, fz, psinlm, cmap=cm.magma, alpha=1)  # 繪製2D彩色圖\n",
    "            if self.make_color_bar:\n",
    "                plt.colorbar(c, ax=self.ax2d)  # 加入色彩條\n",
    "\n",
    "        self.fig.subplots_adjust(top=0.7)  # 調整子圖的上邊緣位置\n",
    "        self.fig.suptitle(\n",
    "            r\"$\\psi _{nlm} \\left( r, \\theta, \\phi \\right) = \"\n",
    "            r\"\\sqrt {\\left( {\\frac{2}{{na_0 }}} \\right)^3 \"\n",
    "            r\"\\frac{{\\left( {n - l - 1} \\right)!}}\"\n",
    "            r\"{{2n\\left[ {\\left( {n + l} \\right)!} \\right]}}} \"\n",
    "            r\"e^{ - r/na_0 } \\left( {\\frac{{2r}}{{na_0 }}} \\right)^l \"\n",
    "            r\"L_{n - l - 1}^{2l + 1}  \"\n",
    "            r\"\\cdot Y_l^m \\left( {\\theta ,\\phi } \\right)$\",\n",
    "            math_fontfamily=\"cm\", size=20)  # 設定圖形標題及其相關樣式\n",
    "        self.fig.text(0.5, 0.75, f\"(n, l, m) = {(self.n, self.l, self.m)}\", horizontalalignment=\"center\", size=17,\n",
    "                      bbox=dict(facecolor='none', edgecolor='black', boxstyle='round'))\n",
    "\n",
    "\n",
    "\n",
    "    @staticmethod\n",
    "    def show():\n",
    "        plt.show()"
   ]
  },
  {
   "cell_type": "code",
   "execution_count": null,
   "metadata": {},
   "outputs": [],
   "source": [
    "a = Compact()\n",
    "a.n = 2\n",
    "a.l = 1\n",
    "a.m = 0\n",
    "a.alpha = 0.5  # 透明度\n",
    "a.set_up()\n",
    "a.show()"
   ]
  }
 ],
 "metadata": {
  "kernelspec": {
   "display_name": "Python 3",
   "language": "python",
   "name": "python3"
  },
  "language_info": {
   "codemirror_mode": {
    "name": "ipython",
    "version": 3
   },
   "file_extension": ".py",
   "mimetype": "text/x-python",
   "name": "python",
   "nbconvert_exporter": "python",
   "pygments_lexer": "ipython3",
   "version": "3.9.12"
  }
 },
 "nbformat": 4,
 "nbformat_minor": 2
}
