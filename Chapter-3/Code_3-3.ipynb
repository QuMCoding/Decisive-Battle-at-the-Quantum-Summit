{
 "cells": [
  {
   "cell_type": "markdown",
   "metadata": {},
   "source": [
    "## Code 3-3 特徵向量"
   ]
  },
  {
   "cell_type": "code",
   "execution_count": null,
   "metadata": {},
   "outputs": [],
   "source": [
    "import numpy as np"
   ]
  },
  {
   "cell_type": "code",
   "execution_count": null,
   "metadata": {},
   "outputs": [],
   "source": [
    "A = np.array([[1, -2, 3], [-2, 2, -2], [6, 2, -1]]) # 可修改矩陣數值\n",
    "eigenvalue, eigenvector = np.linalg.eig(A)"
   ]
  },
  {
   "cell_type": "code",
   "execution_count": null,
   "metadata": {},
   "outputs": [],
   "source": [
    "print('矩陣：')\n",
    "print(A)\n",
    "\n",
    "print('特徵值：')\n",
    "print(eigenvalue)\n",
    "\n",
    "print('特徵向量：')\n",
    "print(eigenvector)\n",
    "\n",
    "print('特徵值為-4對應的特徵向量理論值：')\n",
    "print(np.array([1/3, -2/3, 1])/np.sqrt((1/3)**2+(-2/3)**2+1**2))\n",
    "\n",
    "print('判斷是否正交：')\n",
    "print(np.dot(eigenvector.transpose(), eigenvector))\n",
    "\n",
    "print('判斷是否正交：')\n",
    "print(np.dot(eigenvector, eigenvector.transpose()))\n",
    "\n",
    "print('特徵向量矩陣的列向量模方和：')\n",
    "for i in range(3):\n",
    "    print(eigenvector[0, i]**2+eigenvector[1, i]**2+eigenvector[2, i]**2)\n",
    "\n",
    "print('特徵向量矩陣的行向量模方和：')\n",
    "for i in range(3):\n",
    "    print(eigenvector[i, 0]**2+eigenvector[i, 1]**2+eigenvector[i, 2]**2)"
   ]
  }
 ],
 "metadata": {
  "kernelspec": {
   "display_name": "Python 3",
   "language": "python",
   "name": "python3"
  },
  "language_info": {
   "codemirror_mode": {
    "name": "ipython",
    "version": 3
   },
   "file_extension": ".py",
   "mimetype": "text/x-python",
   "name": "python",
   "nbconvert_exporter": "python",
   "pygments_lexer": "ipython3",
   "version": "3.9.12"
  }
 },
 "nbformat": 4,
 "nbformat_minor": 2
}
