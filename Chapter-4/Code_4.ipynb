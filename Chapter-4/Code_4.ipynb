{
 "cells": [
  {
   "cell_type": "markdown",
   "metadata": {},
   "source": [
    "## Code 4-1 無限深位能井"
   ]
  },
  {
   "cell_type": "code",
   "execution_count": null,
   "metadata": {},
   "outputs": [],
   "source": [
    "%%capture\n",
    "!pip install ipympl"
   ]
  },
  {
   "cell_type": "code",
   "execution_count": null,
   "metadata": {},
   "outputs": [],
   "source": [
    "import numpy as np\n",
    "from matplotlib import pyplot as plt\n",
    "from matplotlib.animation import FuncAnimation\n",
    "from scipy import linalg\n",
    "\n",
    "%matplotlib widget"
   ]
  },
  {
   "cell_type": "markdown",
   "metadata": {},
   "source": [
    "### 無限深方形阱"
   ]
  },
  {
   "cell_type": "markdown",
   "metadata": {},
   "source": [
    "#### 畫出牆壁的位置\n",
    "使用兩個單位階躍函數相減，就可以畫出井壁的位置\n",
    "```\n",
    "   ˍˍˍˍ|‾‾\n",
    "-) ˍˍ|‾‾‾‾\n",
    "=) ‾‾|ˍ|‾‾\n",
    "```\n",
    "注意此時頂端是0底部是-1，所以要再加上1"
   ]
  },
  {
   "cell_type": "code",
   "execution_count": null,
   "metadata": {},
   "outputs": [],
   "source": [
    "def inf_barrier(x, width_nm=10, height=1):\n",
    "    \"\"\"無限深方形阱壁\"\"\"\n",
    "    # width_nm: 阱壁寬度(nm)\n",
    "    L = 1e-9 * width_nm  # 總距離(m)\n",
    "    return (np.heaviside(x - L / 2, 0.5) - np.heaviside(x + L / 2, 0.5) + 1.) * height"
   ]
  },
  {
   "cell_type": "code",
   "execution_count": null,
   "metadata": {},
   "outputs": [],
   "source": [
    "plt.clf()\n",
    "x = np.linspace(-1e-8, 1e-8, 1000)\n",
    "\n",
    "a = inf_barrier(10)\n",
    "plt.plot(x, inf_barrier(x, 10))\n",
    "plt.show()"
   ]
  },
  {
   "cell_type": "markdown",
   "metadata": {},
   "source": [
    "### moving wave hit potential well"
   ]
  },
  {
   "cell_type": "code",
   "execution_count": null,
   "metadata": {},
   "outputs": [],
   "source": [
    "def norm(psi, mesh_size):\n",
    "    return np.sqrt(np.dot(np.conj(psi), psi) * mesh_size)"
   ]
  },
  {
   "cell_type": "code",
   "execution_count": null,
   "metadata": {},
   "outputs": [],
   "source": [
    "def rho(psi):\n",
    "    return (np.conj(psi) * psi).real"
   ]
  },
  {
   "cell_type": "code",
   "execution_count": null,
   "metadata": {},
   "outputs": [],
   "source": [
    "def laplacian(n):\n",
    "    \"\"\"∇·∇運算子\"\"\"\n",
    "    dx = x[1] - x[0]  # 微小變化量\n",
    "    return (-2 * np.diag(np.ones(n, np.float32), 0)\n",
    "            + np.diag(np.ones((n - 1), np.float32), 1)\n",
    "            + np.diag(np.ones((n - 1), np.float32), -1)) / (dx ** 2)"
   ]
  },
  {
   "cell_type": "code",
   "execution_count": null,
   "metadata": {},
   "outputs": [],
   "source": [
    "def barrier(avg_e=2.06, shape=\"square\"):\n",
    "    L = x[-1] - x[0]  # 總距離\n",
    "    if shape == 'square':\n",
    "        # __|▔|__\n",
    "        pot = (np.heaviside(x - 0.45 * L, 0.5) - np.heaviside(x - 0.55 * L, 0.5)) * avg_e\n",
    "    elif shape == 'heaviside':\n",
    "        # ___|▔▔▔\n",
    "        pot = np.heaviside(x - 0.5 * L, 0.5) * avg_e\n",
    "    elif shape == 'well':\n",
    "        # ▔▔|_|▔▔\n",
    "        pot = (np.heaviside(x - 0.55 * L, 0.5) - np.heaviside(x - 0.45 * L, 0.5)) * avg_e\n",
    "    else:\n",
    "        pot = np.zeros_like(x)\n",
    "    return pot"
   ]
  },
  {
   "cell_type": "code",
   "execution_count": null,
   "metadata": {},
   "outputs": [],
   "source": [
    "def wave_packet(ax, kmu=2, ka=20):\n",
    "    \"\"\"kmu: peak momentum\n",
    "       ka: momentum width parameter\n",
    "       return the Fourier transformation of\n",
    "              exp(-ka * (k - kmu)^2) * exp(-6j k^2)\n",
    "    \"\"\"\n",
    "    L = ax[-1] - ax[0]  # x的最後項 - x的最前項\n",
    "    dk = 2 * np.pi / L\n",
    "    N = len(ax)\n",
    "    k = np.linspace(0, N * dk, N)\n",
    "\n",
    "    psi_k = np.exp(-ka * (k - kmu) ** 2 + -6j * k ** 2)  # Ψₖ\n",
    "\n",
    "    temp = np.dot(np.diag(k * k, 0) / (2 * mass), psi_k)\n",
    "    avg_e = np.dot(np.conjugate(psi_k), temp) * dk\n",
    "    avg_e = avg_e / norm(psi_k, dk) ** 2\n",
    "\n",
    "    psi = np.fft.ifft(psi_k)\n",
    "    dx = x[1] - x[0]\n",
    "    psi = psi / norm(psi, dx)\n",
    "    return psi, avg_e"
   ]
  },
  {
   "cell_type": "code",
   "execution_count": null,
   "metadata": {},
   "outputs": [],
   "source": [
    "def evolve(tfinal=30.0, nt=400):\n",
    "    t = np.linspace(0, tfinal, nt)\n",
    "    dt = t[1] - t[0]\n",
    "    Ut = linalg.expm(-1j * H * dt / hbar)\n",
    "    #print(f'{Ut=}')\n",
    "    psi_list = []\n",
    "    rho_list = []\n",
    "\n",
    "    psi = np.copy(wave)\n",
    "    psi_list.append(psi)\n",
    "    rho_list.append(rho(psi))\n",
    "\n",
    "    for i in range(nt):\n",
    "        psi = np.dot(Ut, psi)\n",
    "        psi_list.append(psi)\n",
    "        rho_list.append(rho(psi))\n",
    "\n",
    "    return t, psi_list, rho_list"
   ]
  },
  {
   "cell_type": "code",
   "execution_count": null,
   "metadata": {},
   "outputs": [],
   "source": [
    "mass = 1\n",
    "hbar = 1\n",
    "xmin = 0\n",
    "xmax = 100\n",
    "ninterval = 1600\n",
    "show_density = True\n",
    "\n",
    "x = np.linspace(xmin, xmax, ninterval)\n",
    "peak_shape = \"none\"\n",
    "\n",
    "Lap = laplacian(ninterval)"
   ]
  },
  {
   "cell_type": "code",
   "execution_count": null,
   "metadata": {},
   "outputs": [],
   "source": [
    "U = np.diag(barrier(shape=peak_shape), 0)\n",
    "H = - hbar ** 2 / (2 * mass) * Lap + U"
   ]
  },
  {
   "cell_type": "code",
   "execution_count": null,
   "metadata": {},
   "outputs": [],
   "source": [
    "wave, avgE = wave_packet(x, kmu=2, ka=20)"
   ]
  },
  {
   "cell_type": "code",
   "execution_count": null,
   "metadata": {},
   "outputs": [],
   "source": [
    "plt.clf()\n",
    "plt.grid(ls=\"--\")\n",
    "plt.plot(x, wave.real, label=r'$\\psi(x)$')\n",
    "if show_density:\n",
    "    density = (np.conjugate(wave) * wave).real\n",
    "    plt.plot(x, density, label='$\\psi^*(x)\\psi(x)$')\n",
    "plt.xlabel(r'$x$')\n",
    "plt.legend(loc='best', title=\"wave packet\")\n",
    "plt.show()"
   ]
  },
  {
   "cell_type": "code",
   "execution_count": null,
   "metadata": {},
   "outputs": [],
   "source": [
    "t, psiList, rhoList = evolve(tfinal=30.0, nt=400)"
   ]
  },
  {
   "cell_type": "code",
   "execution_count": null,
   "metadata": {},
   "outputs": [],
   "source": [
    "def update(i):\n",
    "    line.set_data(x, psiList[i])\n",
    "    text.set_text(f\"${t[i]:.2f}$\")\n",
    "    return line, text\n",
    "\n",
    "\n",
    "potential = barrier(shape=peak_shape)\n",
    "\n",
    "fig1, ax1 = plt.subplots()\n",
    "plt.plot(x, potential * 0.08)\n",
    "line, = plt.plot(x, psiList[0])\n",
    "text = plt.text(0, 0.05, '')\n",
    "plt.grid(ls=\"--\")\n",
    "\n",
    "plt.ylabel('probability density')\n",
    "\n",
    "plt.xlabel(r'$x$')\n",
    "anim1 = FuncAnimation(fig1, update, frames=400, interval=100, blit=True)\n",
    "anim1.save('o3.gif', fps=30, dpi=300)\n",
    "plt.show()"
   ]
  }
 ],
 "metadata": {
  "kernelspec": {
   "display_name": "Python 3",
   "language": "python",
   "name": "python3"
  },
  "language_info": {
   "codemirror_mode": {
    "name": "ipython",
    "version": 3
   },
   "file_extension": ".py",
   "mimetype": "text/x-python",
   "name": "python",
   "nbconvert_exporter": "python",
   "pygments_lexer": "ipython3",
   "version": "3.9.12"
  }
 },
 "nbformat": 4,
 "nbformat_minor": 2
}
