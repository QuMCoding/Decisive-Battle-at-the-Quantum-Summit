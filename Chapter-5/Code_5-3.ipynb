{
 "cells": [
  {
   "cell_type": "markdown",
   "metadata": {},
   "source": [
    "## Code 5-3 雙狹縫干涉實驗模擬"
   ]
  },
  {
   "cell_type": "code",
   "execution_count": null,
   "metadata": {},
   "outputs": [],
   "source": [
    "from matplotlib import pyplot as plt  # 可以繪製統計圖\n",
    "import numpy as np  # 用於向量與矩陣運算"
   ]
  },
  {
   "cell_type": "code",
   "execution_count": null,
   "metadata": {},
   "outputs": [],
   "source": [
    "# 常數定義\n",
    "lim_top = 1e-16  # 定義模擬圖的左邊界\n",
    "lim_bottom = -lim_top  # 定義模擬圖的右邊界\n",
    "hbar = 6.62607015e-34  # 普朗克常數"
   ]
  },
  {
   "cell_type": "code",
   "execution_count": null,
   "metadata": {},
   "outputs": [],
   "source": [
    "def new_shot_wave(dots=1000):\n",
    "    \"\"\"多射dots顆電子\"\"\"\n",
    "    # a = lim_top - lim_bottom\n",
    "    # p = xes\n",
    "    # psi_p ** 2 = (a/(2*pi*hbar)) * (1+cos(p*a/hbar))\n",
    "    plt.xlim((lim_top, lim_bottom))\n",
    "    xes = np.linspace(lim_bottom, lim_top, 1000)  # 定義可以射到的x軸位置，為lim_bottom~lim_top之間平分1000個點\n",
    "    a = lim_top - lim_bottom  # 計算可射處總長度\n",
    "    prob = (a / (2 * np.pi * hbar)) * (1. + np.cos(xes * a / hbar))  # 計算射到每個點的機率\n",
    "    _x = np.random.choice(xes, dots, p=prob / np.sum(prob))  # 計算射到的點\n",
    "    # 畫上去，並將y軸座標隨機選擇\n",
    "    plt.scatter(_x, np.random.uniform(lim_bottom, lim_top, _x.shape), s=0.1, c=np.zeros((len(_x),)))\n",
    "    return _x\n",
    "\n",
    "\n",
    "def new_shot_observed(dots=1000):\n",
    "    \"\"\"多射dots顆電子\"\"\"\n",
    "    slit_pos = [0.2, 0.4]  # +/- 0.2~0.3 是可以射到的地方\n",
    "    plt.xlim((lim_top, lim_bottom))\n",
    "    xes = np.linspace(lim_bottom, lim_top, 1000)  # 定義可以射到的x軸位置，為lim_bottom~lim_top之間平分1000個點\n",
    "    prob = (xes > slit_pos[0] * lim_top) & (xes < slit_pos[1] * lim_top) | \\\n",
    "           (xes < -slit_pos[0] * lim_top) & (xes > -slit_pos[1] * lim_top)  # 計算射到每個點的機率\n",
    "    _x = np.random.choice(xes, dots, p=prob / np.sum(prob))  # 計算射到的點\n",
    "    # 畫上去，並將y軸座標隨機選擇\n",
    "    plt.scatter(_x, np.random.uniform(lim_bottom, lim_top, _x.shape), s=0.1, c=np.zeros((len(_x),)))\n",
    "    return _x"
   ]
  },
  {
   "cell_type": "code",
   "execution_count": null,
   "metadata": {},
   "outputs": [],
   "source": [
    "def get_random_number(bits=1000, show_plot=True):\n",
    "    plt.figure(1111)\n",
    "    waved = new_shot_wave(bits)\n",
    "\n",
    "    plt.figure(1122)\n",
    "    observed = new_shot_observed(bits)\n",
    "\n",
    "    if show_plot:\n",
    "        plt.show()\n",
    "\n",
    "    return (waved > 0) ^ (observed > 0)"
   ]
  },
  {
   "cell_type": "code",
   "execution_count": null,
   "metadata": {},
   "outputs": [],
   "source": [
    "rand = get_random_number(1000000, show_plot=False)\n",
    "np.packbits(rand).tofile(\"arr\")\n",
    "print(\"\".join(rand.astype(np.uint8).astype(str)))"
   ]
  },
  {
   "cell_type": "code",
   "execution_count": null,
   "metadata": {},
   "outputs": [],
   "source": [
    "new_shot_wave(10)  # 射10個電子\n",
    "plt.show()  # 畫出結果\n",
    "new_shot_wave(100)  # 射100個電子\n",
    "plt.show()  # 畫出結果，並清除上次的圖\n",
    "new_shot_wave(1000)  # 射1000個電子\n",
    "plt.show()  # 畫出結果，並清除上次的圖\n",
    "new_shot_wave(10000)  # 射10000個電子\n",
    "plt.show()  # 畫出結果，並清除上次的圖\n",
    "\n",
    "\n",
    "new_shot_observed(10)  # 射10個電子\n",
    "plt.show()  # 畫出結果\n",
    "new_shot_observed(100)  # 射100個電子\n",
    "plt.show()  # 畫出結果，並清除上次的圖\n",
    "new_shot_observed(1000)  # 射1000個電子\n",
    "plt.show()  # 畫出結果，並清除上次的圖\n",
    "new_shot_observed(10000)  # 射10000個電子\n",
    "plt.show()  # 畫出結果，並清除上次的圖"
   ]
  }
 ],
 "metadata": {
  "kernelspec": {
   "display_name": "Python 3",
   "language": "python",
   "name": "python3"
  },
  "language_info": {
   "codemirror_mode": {
    "name": "ipython",
    "version": 3
   },
   "file_extension": ".py",
   "mimetype": "text/x-python",
   "name": "python",
   "nbconvert_exporter": "python",
   "pygments_lexer": "ipython3",
   "version": "3.9.12"
  }
 },
 "nbformat": 4,
 "nbformat_minor": 2
}
