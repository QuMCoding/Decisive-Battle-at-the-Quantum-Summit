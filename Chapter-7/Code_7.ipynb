{
 "cells": [
  {
   "cell_type": "markdown",
   "metadata": {},
   "source": [
    "# Code 7 費米-狄拉克統計"
   ]
  },
  {
   "cell_type": "code",
   "execution_count": null,
   "metadata": {},
   "outputs": [],
   "source": [
    "import numpy as np\n",
    "import matplotlib.pyplot as plt\n",
    "from ipywidgets import interactive\n",
    "import ipywidgets as widgets"
   ]
  },
  {
   "cell_type": "code",
   "execution_count": null,
   "metadata": {},
   "outputs": [],
   "source": [
    "# Define the Fermi-Dirac distribution function\n",
    "def fermi_dirac(E, T, mu):\n",
    "    k_B = 8.617333262145e-5  # Boltzmann constant in eV/K\n",
    "    return 1 / (np.exp((E - mu) / (k_B * T)) + 1)"
   ]
  },
  {
   "cell_type": "code",
   "execution_count": null,
   "metadata": {},
   "outputs": [],
   "source": [
    "# Function to plot the distribution\n",
    "def plot_fermi_dirac(T=300, mu=0):\n",
    "    E = np.linspace(-1, 1, 400)  # Energy range in eV\n",
    "    f_E = fermi_dirac(E, T, mu)\n",
    "    \n",
    "    plt.figure(figsize=(8, 6))\n",
    "    plt.plot(E, f_E, label=f\"T = {T} K, μ = {mu} eV\")\n",
    "    plt.title(\"Fermi-Dirac Distribution\")\n",
    "    plt.xlabel(\"Energy (E) [eV]\")\n",
    "    plt.ylabel(\"Occupation Probability\")\n",
    "    plt.grid(True)\n",
    "    plt.legend()\n",
    "    plt.show()"
   ]
  },
  {
   "cell_type": "code",
   "execution_count": null,
   "metadata": {},
   "outputs": [],
   "source": [
    "# Create interactive widgets for temperature and chemical potential\n",
    "interactive_plot = interactive(plot_fermi_dirac, \n",
    "                               T=widgets.FloatSlider(value=300, min=10, max=1000, step=10, description='Temperature (K)'),\n",
    "                               mu=widgets.FloatSlider(value=0, min=-1, max=1, step=0.1, description='Chemical Potential (eV)'))\n",
    "display(interactive_plot)"
   ]
  }
 ],
 "metadata": {
  "kernelspec": {
   "display_name": "Python 3",
   "language": "python",
   "name": "python3"
  },
  "language_info": {
   "codemirror_mode": {
    "name": "ipython",
    "version": 3
   },
   "file_extension": ".py",
   "mimetype": "text/x-python",
   "name": "python",
   "nbconvert_exporter": "python",
   "pygments_lexer": "ipython3",
   "version": "3.9.12"
  }
 },
 "nbformat": 4,
 "nbformat_minor": 2
}
