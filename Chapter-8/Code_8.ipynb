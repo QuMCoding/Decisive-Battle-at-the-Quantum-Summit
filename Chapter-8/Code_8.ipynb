{
 "cells": [
  {
   "cell_type": "markdown",
   "metadata": {},
   "source": [
    "# Code 8"
   ]
  },
  {
   "cell_type": "markdown",
   "metadata": {},
   "source": [
    "**如果用 colab 就先執行下面這兩格**，本機不用執行"
   ]
  },
  {
   "cell_type": "code",
   "execution_count": null,
   "metadata": {},
   "outputs": [],
   "source": [
    "%%capture\n",
    "!pip install ipympl"
   ]
  },
  {
   "cell_type": "code",
   "execution_count": null,
   "metadata": {},
   "outputs": [],
   "source": [
    "from google.colab import output\n",
    "output.enable_custom_widget_manager()"
   ]
  },
  {
   "cell_type": "markdown",
   "metadata": {},
   "source": [
    "### 狄拉克δ函數"
   ]
  },
  {
   "cell_type": "code",
   "execution_count": null,
   "metadata": {},
   "outputs": [],
   "source": [
    "import numpy as np\n",
    "from matplotlib import pyplot as plt\n",
    "from matplotlib.widgets import Slider\n",
    "# 啟用互動式圖形，使圖形可以與使用者互動\n",
    "%matplotlib widget"
   ]
  },
  {
   "cell_type": "code",
   "execution_count": null,
   "metadata": {},
   "outputs": [],
   "source": [
    "def dirac_delta_function(a, x):\n",
    "    \"\"\"\n",
    "    Returns the Dirac delta function for a given energy and temperature.\n",
    "\n",
    "    Parameters\n",
    "    ----------\n",
    "    x : float\n",
    "        x in the Dirac delta function.\n",
    "    a : float\n",
    "        a in the Dirac delta function.\n",
    "\n",
    "    Returns\n",
    "    -------\n",
    "    float\n",
    "        Dirac delta function.\n",
    "    \"\"\"\n",
    "    return np.exp(-((x / a) ** 2)) / (np.abs(a) * np.sqrt(np.pi))\n",
    "\n",
    "\n",
    "def update(val):\n",
    "    \"\"\"\n",
    "    Updates the plot when the slider is moved.\n",
    "\n",
    "    Parameters\n",
    "    ----------\n",
    "    val : float\n",
    "        Slider value. No usage in this function.\n",
    "    \"\"\"\n",
    "    a = a_slider.val\n",
    "\n",
    "    line.set_ydata(dirac_delta_function(a, x))\n",
    "\n",
    "    line.set_label(\"a = \" + str(round(a, 2)))\n",
    "    ax.legend()\n",
    "    fig.canvas.draw_idle()"
   ]
  },
  {
   "cell_type": "code",
   "execution_count": null,
   "metadata": {},
   "outputs": [],
   "source": [
    "fig, ax = plt.subplots()\n",
    "fig.subplots_adjust(bottom=0.25)\n",
    "x = np.linspace(-2.0, 2.0, 5000)\n",
    "line, = ax.plot(x, dirac_delta_function(0.1, x), label=\"a = 1\")\n",
    "\n",
    "axa = fig.add_axes([0.15, 0.05, 0.65, 0.03])\n",
    "a_slider = Slider(ax=axa, label=\"a\", valmin=1e-3, valmax=1.0, valinit=0.1, orientation=\"horizontal\")\n",
    "\n",
    "a_slider.on_changed(update)\n",
    "\n",
    "ax.set_xlabel(\"x\")\n",
    "ax.set_ylabel(\"f(x)\")\n",
    "ax.set_title(\"Dirac delta function\")\n",
    "ax.legend()\n",
    "\n",
    "plt.show()"
   ]
  }
 ],
 "metadata": {
  "kernelspec": {
   "display_name": "Python 3",
   "language": "python",
   "name": "python3"
  },
  "language_info": {
   "codemirror_mode": {
    "name": "ipython",
    "version": 3
   },
   "file_extension": ".py",
   "mimetype": "text/x-python",
   "name": "python",
   "nbconvert_exporter": "python",
   "pygments_lexer": "ipython3",
   "version": "3.9.12"
  }
 },
 "nbformat": 4,
 "nbformat_minor": 2
}
